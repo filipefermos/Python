{
 "cells": [
  {
   "cell_type": "code",
   "execution_count": 6,
   "metadata": {},
   "outputs": [],
   "source": [
    "import pandas as pd"
   ]
  },
  {
   "cell_type": "code",
   "execution_count": 7,
   "metadata": {},
   "outputs": [],
   "source": [
    "alunosDic = {'Nomes':['Filipe','Josi','Olivia','Tito'],\n",
    "         'Nota':[9,8,3.3,6],\n",
    "         'Aprovado':['Sim','Sim','Não','Sim']}"
   ]
  },
  {
   "cell_type": "code",
   "execution_count": 8,
   "metadata": {},
   "outputs": [
    {
     "name": "stdout",
     "output_type": "stream",
     "text": [
      "    Nomes  Nota Aprovado\n",
      "0  Filipe   9.0      Sim\n",
      "1    Josi   8.0      Sim\n",
      "2  Olivia   3.3      Não\n",
      "3    Tito   6.0      Sim\n"
     ]
    }
   ],
   "source": [
    "alunosDF = pd.DataFrame(alunosDic)\n",
    "print(alunosDF)"
   ]
  },
  {
   "cell_type": "code",
   "execution_count": 10,
   "metadata": {},
   "outputs": [],
   "source": [
    "primeiraslinhas= alunosDF.loc[0:1]"
   ]
  },
  {
   "cell_type": "code",
   "execution_count": 11,
   "metadata": {},
   "outputs": [
    {
     "name": "stdout",
     "output_type": "stream",
     "text": [
      "    Nomes  Nota Aprovado\n",
      "0  Filipe   9.0      Sim\n",
      "1    Josi   8.0      Sim\n"
     ]
    }
   ],
   "source": [
    "print(primeiraslinhas)"
   ]
  },
  {
   "cell_type": "code",
   "execution_count": 12,
   "metadata": {},
   "outputs": [
    {
     "name": "stdout",
     "output_type": "stream",
     "text": [
      "    Nomes  Nota Aprovado\n",
      "1    Josi   8.0      Sim\n",
      "2  Olivia   3.3      Não\n",
      "3    Tito   6.0      Sim\n"
     ]
    }
   ],
   "source": [
    "novoDF = alunosDF.loc[alunosDF['Nota']!=9]\n",
    "print(novoDF)"
   ]
  },
  {
   "cell_type": "code",
   "execution_count": 13,
   "metadata": {},
   "outputs": [
    {
     "name": "stdout",
     "output_type": "stream",
     "text": [
      "    Nomes  Nota Aprovado\n",
      "2  Olivia   3.3      Não\n"
     ]
    }
   ],
   "source": [
    "alunosReprovados = alunosDF.loc[alunosDF['Aprovado']=='Não']\n",
    "print(alunosReprovados)"
   ]
  },
  {
   "cell_type": "code",
   "execution_count": null,
   "metadata": {},
   "outputs": [],
   "source": []
  },
  {
   "cell_type": "code",
   "execution_count": null,
   "metadata": {},
   "outputs": [],
   "source": []
  }
 ],
 "metadata": {
  "kernelspec": {
   "display_name": "Python 3",
   "language": "python",
   "name": "python3"
  },
  "language_info": {
   "codemirror_mode": {
    "name": "ipython",
    "version": 3
   },
   "file_extension": ".py",
   "mimetype": "text/x-python",
   "name": "python",
   "nbconvert_exporter": "python",
   "pygments_lexer": "ipython3",
   "version": "3.7.6"
  }
 },
 "nbformat": 4,
 "nbformat_minor": 4
}
