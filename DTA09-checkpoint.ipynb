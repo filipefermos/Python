{
 "cells": [
  {
   "cell_type": "code",
   "execution_count": 1,
   "metadata": {},
   "outputs": [],
   "source": [
    "kmh = [15,25,35,45,57,68,123,146,370]"
   ]
  },
  {
   "cell_type": "code",
   "execution_count": 2,
   "metadata": {},
   "outputs": [
    {
     "name": "stdout",
     "output_type": "stream",
     "text": [
      "[9.316770186335404, 15.527950310559005, 21.739130434782606, 27.95031055900621, 35.40372670807453, 42.2360248447205, 76.3975155279503, 90.6832298136646, 229.81366459627327]\n"
     ]
    }
   ],
   "source": [
    "mph = []\n",
    "for i in kmh:\n",
    "    mph.append(i/1.61)\n",
    "print(mph)"
   ]
  },
  {
   "cell_type": "code",
   "execution_count": 3,
   "metadata": {},
   "outputs": [
    {
     "name": "stdout",
     "output_type": "stream",
     "text": [
      "[9.316770186335404, 15.527950310559005, 21.739130434782606, 27.95031055900621, 35.40372670807453, 42.2360248447205, 76.3975155279503, 90.6832298136646, 229.81366459627327]\n"
     ]
    }
   ],
   "source": [
    "mph2 = list(map(lambda x: x/1.61,kmh)) \n",
    "print(mph2)"
   ]
  },
  {
   "cell_type": "code",
   "execution_count": 4,
   "metadata": {},
   "outputs": [
    {
     "name": "stdout",
     "output_type": "stream",
     "text": [
      "[9.316770186335404, 15.527950310559005, 21.739130434782606, 27.95031055900621, 35.40372670807453, 42.2360248447205, 76.3975155279503, 90.6832298136646, 229.81366459627327]\n"
     ]
    }
   ],
   "source": [
    "mph3 = [x/1.61 for x in kmh]\n",
    "print(mph3)"
   ]
  },
  {
   "cell_type": "code",
   "execution_count": 5,
   "metadata": {},
   "outputs": [],
   "source": [
    "caracteres = [i for i in 'Filipe Ferreira']"
   ]
  },
  {
   "cell_type": "code",
   "execution_count": 6,
   "metadata": {},
   "outputs": [
    {
     "name": "stdout",
     "output_type": "stream",
     "text": [
      "['F', 'i', 'l', 'i', 'p', 'e', ' ', 'F', 'e', 'r', 'r', 'e', 'i', 'r', 'a']\n"
     ]
    }
   ],
   "source": [
    "print(caracteres)"
   ]
  },
  {
   "cell_type": "code",
   "execution_count": null,
   "metadata": {},
   "outputs": [],
   "source": []
  },
  {
   "cell_type": "code",
   "execution_count": null,
   "metadata": {},
   "outputs": [],
   "source": []
  }
 ],
 "metadata": {
  "kernelspec": {
   "display_name": "Python 3",
   "language": "python",
   "name": "python3"
  },
  "language_info": {
   "codemirror_mode": {
    "name": "ipython",
    "version": 3
   },
   "file_extension": ".py",
   "mimetype": "text/x-python",
   "name": "python",
   "nbconvert_exporter": "python",
   "pygments_lexer": "ipython3",
   "version": "3.7.6"
  }
 },
 "nbformat": 4,
 "nbformat_minor": 4
}
