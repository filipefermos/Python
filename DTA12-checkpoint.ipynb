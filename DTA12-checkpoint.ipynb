{
 "cells": [
  {
   "cell_type": "code",
   "execution_count": 7,
   "metadata": {},
   "outputs": [],
   "source": [
    "import pandas as pd"
   ]
  },
  {
   "cell_type": "code",
   "execution_count": 12,
   "metadata": {},
   "outputs": [],
   "source": [
    "alunos = {'Nomes':['Filipe','Josi','Olivia','Tito'],\n",
    "         'Nota':[9,8,3.3,6],\n",
    "         'Aprovado':['Sim','Sim','Não','Sim']}"
   ]
  },
  {
   "cell_type": "code",
   "execution_count": 13,
   "metadata": {},
   "outputs": [
    {
     "name": "stdout",
     "output_type": "stream",
     "text": [
      "    Nomes  Nota Aprovado\n",
      "0  Filipe   9.0      Sim\n",
      "1    Josi   8.0      Sim\n",
      "2  Olivia   3.3      Não\n",
      "3    Tito   6.0      Sim\n"
     ]
    }
   ],
   "source": [
    "dataframe = pd.DataFrame(alunos)\n",
    "print(dataframe)"
   ]
  },
  {
   "cell_type": "code",
   "execution_count": 14,
   "metadata": {},
   "outputs": [
    {
     "name": "stdout",
     "output_type": "stream",
     "text": [
      "0     7\n",
      "1     9\n",
      "2    45\n",
      "3    76\n",
      "4    89\n",
      "dtype: int64\n"
     ]
    }
   ],
   "source": [
    "\n",
    "objeto01 = pd.Series([7,9,45,76,89])\n",
    "print(objeto01)"
   ]
  },
  {
   "cell_type": "code",
   "execution_count": 15,
   "metadata": {},
   "outputs": [
    {
     "name": "stdout",
     "output_type": "stream",
     "text": [
      "[ 7  2 32  3  4]\n",
      "[[232  63  93 120  35]\n",
      " [ 23  45 234  75 123]]\n"
     ]
    }
   ],
   "source": [
    "\n",
    "import numpy as np\n",
    "array01 = np.array([7,2,32,3,4])\n",
    "array02 = np.array([(232,63,93,120,35),(23,45,234,75,123)])\n",
    "print(array01)\n",
    "print(array02)"
   ]
  },
  {
   "cell_type": "code",
   "execution_count": 17,
   "metadata": {},
   "outputs": [
    {
     "name": "stdout",
     "output_type": "stream",
     "text": [
      "0     7\n",
      "1     2\n",
      "2    32\n",
      "3     3\n",
      "4     4\n",
      "dtype: int32\n"
     ]
    }
   ],
   "source": [
    "objeto02 = pd.Series(array01)\n",
    "print(objeto02)"
   ]
  },
  {
   "cell_type": "code",
   "execution_count": null,
   "metadata": {},
   "outputs": [],
   "source": []
  }
 ],
 "metadata": {
  "kernelspec": {
   "display_name": "Python 3",
   "language": "python",
   "name": "python3"
  },
  "language_info": {
   "codemirror_mode": {
    "name": "ipython",
    "version": 3
   },
   "file_extension": ".py",
   "mimetype": "text/x-python",
   "name": "python",
   "nbconvert_exporter": "python",
   "pygments_lexer": "ipython3",
   "version": "3.7.6"
  }
 },
 "nbformat": 4,
 "nbformat_minor": 4
}
